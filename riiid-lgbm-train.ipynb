{
 "cells": [
  {
   "cell_type": "markdown",
   "metadata": {
    "papermill": {
     "duration": 0.022131,
     "end_time": "2021-01-15T04:32:20.560356",
     "exception": false,
     "start_time": "2021-01-15T04:32:20.538225",
     "status": "completed"
    },
    "tags": []
   },
   "source": [
    "# Brief Description\n",
    "My final solution is based on ensemble of LGBM and SAKT, which give 0.786 on private leaderboard, 0.784 on public leaderboard. This notebook is only to train the single LGBM model.\n",
    "\n",
    "### Features used to train the model\n",
    "\n",
    "* raw features\n",
    "    * prior_question_had_explanation\n",
    "    * prior_question_elapsed_time\n",
    "    * part\n",
    "\n",
    "*Used raw data of prior question. As next step to improve the model, shift to get the data on current question.*\n",
    "\n",
    "* question statistics without updates\n",
    "    * content_total_questions\n",
    "    * content_accuracy\n",
    "    * content_accuracy_std\n",
    "    * content_prior_question_elapsed_time_avg\n",
    "    * content_prior_question_had_explanation_avg\n",
    "    * content_explanation_false_mean\n",
    "    * content_explanation_true_mean  \n",
    "\n",
    "*The question statistics are calculated on complete train data, they are static aggregated dataframe, which is not updated during inferencing.*\n",
    "\n",
    "* user statistics with updates\n",
    "    * user_cum_total_questions\n",
    "    * user_cum_accuracy\n",
    "    * user_cum_prior_question_elapsed_time_avg\n",
    "    * user_cum_prior_question_had_explanation_avg\n",
    "    * user_cum_content_total_questions\n",
    "    * user_ts_lag_1: lag between current timestamp and previous interaction\n",
    "    * user_ts_lag_2: lag between current timestamp and previous 2 interaction\n",
    "    * user_ts_lag_3: lag between current timestamp and previous 3 interaction\n",
    "    * user_continuous_correct: previous continuous correct answers\n",
    "\n",
    "*The user statistics are the states of the user at the moment of answering the question, calculated from user history (timestamp=0 to current time). Dictionaries are used to keep track of the statistics, and are updated during inferencing.*\n",
    "\n",
    "*For next step, will take into account question difficulties (generate a feature on question accuracy and user accuracy). Also consider lag since previous correct/incorrect answer.*\n",
    "\n",
    "### CV Strategy\n",
    "CV method is based on tito's notebook https://www.kaggle.com/its7171/cv-strategy.  \n",
    "This notebook uses last 50 million records from cv2_train, and filters only users with complete history (timestamp=0) to calculate features. And samples 14 million to train the model.\n",
    "           \n",
    "\n",
    "\n"
   ]
  },
  {
   "cell_type": "markdown",
   "metadata": {
    "papermill": {
     "duration": 0.018579,
     "end_time": "2021-01-15T04:32:20.599625",
     "exception": false,
     "start_time": "2021-01-15T04:32:20.581046",
     "status": "completed"
    },
    "tags": []
   },
   "source": [
    "# Set Up"
   ]
  },
  {
   "cell_type": "code",
   "execution_count": 1,
   "metadata": {
    "execution": {
     "iopub.execute_input": "2021-01-15T04:32:20.642499Z",
     "iopub.status.busy": "2021-01-15T04:32:20.641578Z",
     "iopub.status.idle": "2021-01-15T04:32:20.773341Z",
     "shell.execute_reply": "2021-01-15T04:32:20.772634Z"
    },
    "papermill": {
     "duration": 0.154255,
     "end_time": "2021-01-15T04:32:20.773460",
     "exception": false,
     "start_time": "2021-01-15T04:32:20.619205",
     "status": "completed"
    },
    "tags": []
   },
   "outputs": [],
   "source": [
    "%reset -f"
   ]
  },
  {
   "cell_type": "code",
   "execution_count": 2,
   "metadata": {
    "execution": {
     "iopub.execute_input": "2021-01-15T04:32:20.823197Z",
     "iopub.status.busy": "2021-01-15T04:32:20.821073Z",
     "iopub.status.idle": "2021-01-15T04:32:22.932689Z",
     "shell.execute_reply": "2021-01-15T04:32:22.931931Z"
    },
    "papermill": {
     "duration": 2.139849,
     "end_time": "2021-01-15T04:32:22.932822",
     "exception": false,
     "start_time": "2021-01-15T04:32:20.792973",
     "status": "completed"
    },
    "tags": []
   },
   "outputs": [
    {
     "data": {
      "text/plain": [
       "4"
      ]
     },
     "execution_count": 2,
     "metadata": {},
     "output_type": "execute_result"
    }
   ],
   "source": [
    "import numpy as np\n",
    "import pandas as pd\n",
    "from random import sample \n",
    "from collections import defaultdict\n",
    "from tqdm import tqdm\n",
    "import time\n",
    "\n",
    "import lightgbm as lgb\n",
    "from sklearn.metrics import roc_auc_score\n",
    "from sklearn.preprocessing import LabelEncoder\n",
    "from sklearn.preprocessing import OneHotEncoder\n",
    "\n",
    "import matplotlib.pyplot as plt\n",
    "%matplotlib inline\n",
    "import seaborn as sns\n",
    "#sns.set()\n",
    "\n",
    "import gc\n",
    "import riiideducation\n",
    "\n",
    "import os\n",
    "\n",
    "gc.collect()"
   ]
  },
  {
   "cell_type": "code",
   "execution_count": 3,
   "metadata": {
    "execution": {
     "iopub.execute_input": "2021-01-15T04:32:22.996327Z",
     "iopub.status.busy": "2021-01-15T04:32:22.995471Z",
     "iopub.status.idle": "2021-01-15T04:32:22.999401Z",
     "shell.execute_reply": "2021-01-15T04:32:22.998695Z"
    },
    "papermill": {
     "duration": 0.037829,
     "end_time": "2021-01-15T04:32:22.999568",
     "exception": false,
     "start_time": "2021-01-15T04:32:22.961739",
     "status": "completed"
    },
    "tags": []
   },
   "outputs": [],
   "source": [
    "# Control parameters\n",
    "FEATURE_ENGINEERING = False\n",
    "RUN_CONTENT_AGG = False\n",
    "DEBUG = False"
   ]
  },
  {
   "cell_type": "markdown",
   "metadata": {
    "papermill": {
     "duration": 0.027806,
     "end_time": "2021-01-15T04:32:23.055476",
     "exception": false,
     "start_time": "2021-01-15T04:32:23.027670",
     "status": "completed"
    },
    "tags": []
   },
   "source": [
    "# Load Data"
   ]
  },
  {
   "cell_type": "code",
   "execution_count": 4,
   "metadata": {
    "execution": {
     "iopub.execute_input": "2021-01-15T04:32:23.128807Z",
     "iopub.status.busy": "2021-01-15T04:32:23.127746Z",
     "iopub.status.idle": "2021-01-15T04:33:42.614068Z",
     "shell.execute_reply": "2021-01-15T04:33:42.613324Z"
    },
    "papermill": {
     "duration": 79.529345,
     "end_time": "2021-01-15T04:33:42.614197",
     "exception": false,
     "start_time": "2021-01-15T04:32:23.084852",
     "status": "completed"
    },
    "tags": []
   },
   "outputs": [
    {
     "name": "stdout",
     "output_type": "stream",
     "text": [
      "Train size: (94365616, 6)\n",
      "Validation size: (2451798, 6)\n"
     ]
    },
    {
     "data": {
      "text/html": [
       "<div>\n",
       "<style scoped>\n",
       "    .dataframe tbody tr th:only-of-type {\n",
       "        vertical-align: middle;\n",
       "    }\n",
       "\n",
       "    .dataframe tbody tr th {\n",
       "        vertical-align: top;\n",
       "    }\n",
       "\n",
       "    .dataframe thead th {\n",
       "        text-align: right;\n",
       "    }\n",
       "</style>\n",
       "<table border=\"1\" class=\"dataframe\">\n",
       "  <thead>\n",
       "    <tr style=\"text-align: right;\">\n",
       "      <th></th>\n",
       "      <th>user_id</th>\n",
       "      <th>answered_correctly</th>\n",
       "      <th>content_id</th>\n",
       "      <th>prior_question_had_explanation</th>\n",
       "      <th>prior_question_elapsed_time</th>\n",
       "      <th>timestamp</th>\n",
       "    </tr>\n",
       "  </thead>\n",
       "  <tbody>\n",
       "    <tr>\n",
       "      <th>0</th>\n",
       "      <td>705741139</td>\n",
       "      <td>1</td>\n",
       "      <td>128</td>\n",
       "      <td>False</td>\n",
       "      <td>25423.839844</td>\n",
       "      <td>0</td>\n",
       "    </tr>\n",
       "    <tr>\n",
       "      <th>1</th>\n",
       "      <td>705741139</td>\n",
       "      <td>1</td>\n",
       "      <td>7860</td>\n",
       "      <td>False</td>\n",
       "      <td>16000.000000</td>\n",
       "      <td>20666</td>\n",
       "    </tr>\n",
       "    <tr>\n",
       "      <th>2</th>\n",
       "      <td>705741139</td>\n",
       "      <td>1</td>\n",
       "      <td>7922</td>\n",
       "      <td>False</td>\n",
       "      <td>19000.000000</td>\n",
       "      <td>39172</td>\n",
       "    </tr>\n",
       "    <tr>\n",
       "      <th>3</th>\n",
       "      <td>705741139</td>\n",
       "      <td>1</td>\n",
       "      <td>156</td>\n",
       "      <td>False</td>\n",
       "      <td>17000.000000</td>\n",
       "      <td>58207</td>\n",
       "    </tr>\n",
       "    <tr>\n",
       "      <th>4</th>\n",
       "      <td>705741139</td>\n",
       "      <td>1</td>\n",
       "      <td>51</td>\n",
       "      <td>False</td>\n",
       "      <td>17000.000000</td>\n",
       "      <td>75779</td>\n",
       "    </tr>\n",
       "  </tbody>\n",
       "</table>\n",
       "</div>"
      ],
      "text/plain": [
       "     user_id  answered_correctly  content_id  prior_question_had_explanation  \\\n",
       "0  705741139                   1         128                           False   \n",
       "1  705741139                   1        7860                           False   \n",
       "2  705741139                   1        7922                           False   \n",
       "3  705741139                   1         156                           False   \n",
       "4  705741139                   1          51                           False   \n",
       "\n",
       "   prior_question_elapsed_time  timestamp  \n",
       "0                 25423.839844          0  \n",
       "1                 16000.000000      20666  \n",
       "2                 19000.000000      39172  \n",
       "3                 17000.000000      58207  \n",
       "4                 17000.000000      75779  "
      ]
     },
     "execution_count": 4,
     "metadata": {},
     "output_type": "execute_result"
    }
   ],
   "source": [
    "def preprocess_df(path):\n",
    "    cols = ['user_id', 'answered_correctly', 'content_id', \\\n",
    "        'prior_question_had_explanation', 'prior_question_elapsed_time', 'timestamp']\n",
    "    df = pd.read_pickle(path)[cols].reset_index(drop=True)\n",
    "    df = df[df.answered_correctly != -1]\n",
    "    df['prior_question_had_explanation'] = df['prior_question_had_explanation'].fillna(0).astype('bool')\n",
    "    prior_question_elapsed_time_mean = 25423.84 # mean of all train\n",
    "    df['prior_question_elapsed_time'] = df['prior_question_elapsed_time'].fillna(prior_question_elapsed_time_mean)\n",
    "    return df\n",
    "\n",
    "# if calculating aggregated features of questions, set FEATURE_ENGINEERING to True\n",
    "if FEATURE_ENGINEERING:\n",
    "    train_path = \"/kaggle/input/riiid-train-data-multiple-formats/riiid_train.pkl.gzip\"\n",
    "else: \n",
    "    train_path = '../input/riiid-cross-validation-files/cv2_train.pickle'\n",
    "    \n",
    "val_path = '../input/riiid-cross-validation-files/cv2_valid.pickle'\n",
    "\n",
    "train = preprocess_df(train_path)\n",
    "val = preprocess_df(val_path)\n",
    "\n",
    "print(\"Train size:\", train.shape)\n",
    "print('Validation size:', val.shape)\n",
    "\n",
    "train.head()"
   ]
  },
  {
   "cell_type": "markdown",
   "metadata": {
    "papermill": {
     "duration": 0.029098,
     "end_time": "2021-01-15T04:33:42.673209",
     "exception": false,
     "start_time": "2021-01-15T04:33:42.644111",
     "status": "completed"
    },
    "tags": []
   },
   "source": [
    "When training model, to avoid memory issue, use only last 50 million records, where the users have full history."
   ]
  },
  {
   "cell_type": "code",
   "execution_count": 5,
   "metadata": {
    "execution": {
     "iopub.execute_input": "2021-01-15T04:33:42.751871Z",
     "iopub.status.busy": "2021-01-15T04:33:42.750695Z",
     "iopub.status.idle": "2021-01-15T04:33:59.343655Z",
     "shell.execute_reply": "2021-01-15T04:33:59.342764Z"
    },
    "papermill": {
     "duration": 16.640922,
     "end_time": "2021-01-15T04:33:59.343796",
     "exception": false,
     "start_time": "2021-01-15T04:33:42.702874",
     "status": "completed"
    },
    "tags": []
   },
   "outputs": [
    {
     "name": "stdout",
     "output_type": "stream",
     "text": [
      "(37203074, 6)\n",
      "<class 'pandas.core.frame.DataFrame'>\n",
      "Int64Index: 37203074 entries, 45231422 to 96230331\n",
      "Data columns (total 6 columns):\n",
      " #   Column                          Dtype  \n",
      "---  ------                          -----  \n",
      " 0   user_id                         int32  \n",
      " 1   answered_correctly              int8   \n",
      " 2   content_id                      int16  \n",
      " 3   prior_question_had_explanation  bool   \n",
      " 4   prior_question_elapsed_time     float32\n",
      " 5   timestamp                       int64  \n",
      "dtypes: bool(1), float32(1), int16(1), int32(1), int64(1), int8(1)\n",
      "memory usage: 993.4 MB\n"
     ]
    }
   ],
   "source": [
    "if not FEATURE_ENGINEERING:\n",
    "    train = train[-50000000:]\n",
    "\n",
    "    complete_user_id = train[train.timestamp==0]['user_id'].unique()\n",
    "    train = train[train.user_id.isin(complete_user_id)]\n",
    "    #train.drop('timestamp', axis=1, inplace=True)\n",
    "\n",
    "    del complete_user_id\n",
    "    gc.collect()\n",
    "\n",
    "if DEBUG:\n",
    "    train = train[:1000]\n",
    "    val = val[:100]\n",
    "\n",
    "print(train.shape)\n",
    "train.info()\n",
    "#train.memory_usage(deep=True)"
   ]
  },
  {
   "cell_type": "code",
   "execution_count": 6,
   "metadata": {
    "execution": {
     "iopub.execute_input": "2021-01-15T04:33:59.414186Z",
     "iopub.status.busy": "2021-01-15T04:33:59.413325Z",
     "iopub.status.idle": "2021-01-15T04:33:59.444897Z",
     "shell.execute_reply": "2021-01-15T04:33:59.443877Z"
    },
    "papermill": {
     "duration": 0.06983,
     "end_time": "2021-01-15T04:33:59.445044",
     "exception": false,
     "start_time": "2021-01-15T04:33:59.375214",
     "status": "completed"
    },
    "tags": []
   },
   "outputs": [],
   "source": [
    "questions = pd.read_csv('/kaggle/input/riiid-test-answer-prediction/questions.csv')\n",
    "questions['part'] = questions['part'].astype('int8')"
   ]
  },
  {
   "cell_type": "markdown",
   "metadata": {
    "papermill": {
     "duration": 0.030226,
     "end_time": "2021-01-15T04:33:59.506720",
     "exception": false,
     "start_time": "2021-01-15T04:33:59.476494",
     "status": "completed"
    },
    "tags": []
   },
   "source": [
    "# Feature Engineering"
   ]
  },
  {
   "cell_type": "markdown",
   "metadata": {
    "papermill": {
     "duration": 0.030471,
     "end_time": "2021-01-15T04:33:59.568116",
     "exception": false,
     "start_time": "2021-01-15T04:33:59.537645",
     "status": "completed"
    },
    "tags": []
   },
   "source": [
    "### Generate content features (static aggregation)"
   ]
  },
  {
   "cell_type": "code",
   "execution_count": 7,
   "metadata": {
    "execution": {
     "iopub.execute_input": "2021-01-15T04:33:59.650368Z",
     "iopub.status.busy": "2021-01-15T04:33:59.639283Z",
     "iopub.status.idle": "2021-01-15T04:33:59.707606Z",
     "shell.execute_reply": "2021-01-15T04:33:59.706819Z"
    },
    "papermill": {
     "duration": 0.109159,
     "end_time": "2021-01-15T04:33:59.707760",
     "exception": false,
     "start_time": "2021-01-15T04:33:59.598601",
     "status": "completed"
    },
    "tags": []
   },
   "outputs": [
    {
     "data": {
      "text/html": [
       "<div>\n",
       "<style scoped>\n",
       "    .dataframe tbody tr th:only-of-type {\n",
       "        vertical-align: middle;\n",
       "    }\n",
       "\n",
       "    .dataframe tbody tr th {\n",
       "        vertical-align: top;\n",
       "    }\n",
       "\n",
       "    .dataframe thead th {\n",
       "        text-align: right;\n",
       "    }\n",
       "</style>\n",
       "<table border=\"1\" class=\"dataframe\">\n",
       "  <thead>\n",
       "    <tr style=\"text-align: right;\">\n",
       "      <th></th>\n",
       "      <th>content_total_questions</th>\n",
       "      <th>content_accuracy</th>\n",
       "      <th>content_accuracy_std</th>\n",
       "      <th>content_prior_question_elapsed_time_avg</th>\n",
       "      <th>content_prior_question_had_explanation_avg</th>\n",
       "      <th>part</th>\n",
       "      <th>bundle_id</th>\n",
       "      <th>content_explanation_false_mean</th>\n",
       "      <th>content_explanation_true_mean</th>\n",
       "    </tr>\n",
       "  </thead>\n",
       "  <tbody>\n",
       "    <tr>\n",
       "      <th>0</th>\n",
       "      <td>6903</td>\n",
       "      <td>0.907715</td>\n",
       "      <td>0.289440</td>\n",
       "      <td>21876.357422</td>\n",
       "      <td>0.947754</td>\n",
       "      <td>1</td>\n",
       "      <td>0</td>\n",
       "      <td>0.830566</td>\n",
       "      <td>0.912109</td>\n",
       "    </tr>\n",
       "    <tr>\n",
       "      <th>1</th>\n",
       "      <td>7398</td>\n",
       "      <td>0.890625</td>\n",
       "      <td>0.312104</td>\n",
       "      <td>22091.626953</td>\n",
       "      <td>0.980469</td>\n",
       "      <td>1</td>\n",
       "      <td>1</td>\n",
       "      <td>0.813965</td>\n",
       "      <td>0.892090</td>\n",
       "    </tr>\n",
       "    <tr>\n",
       "      <th>2</th>\n",
       "      <td>44905</td>\n",
       "      <td>0.554199</td>\n",
       "      <td>0.497050</td>\n",
       "      <td>23546.447266</td>\n",
       "      <td>0.888184</td>\n",
       "      <td>1</td>\n",
       "      <td>2</td>\n",
       "      <td>0.490967</td>\n",
       "      <td>0.562012</td>\n",
       "    </tr>\n",
       "    <tr>\n",
       "      <th>3</th>\n",
       "      <td>22973</td>\n",
       "      <td>0.779297</td>\n",
       "      <td>0.414636</td>\n",
       "      <td>23318.945312</td>\n",
       "      <td>0.958496</td>\n",
       "      <td>1</td>\n",
       "      <td>3</td>\n",
       "      <td>0.686035</td>\n",
       "      <td>0.783691</td>\n",
       "    </tr>\n",
       "    <tr>\n",
       "      <th>4</th>\n",
       "      <td>31736</td>\n",
       "      <td>0.613281</td>\n",
       "      <td>0.487021</td>\n",
       "      <td>23126.990234</td>\n",
       "      <td>0.530273</td>\n",
       "      <td>1</td>\n",
       "      <td>4</td>\n",
       "      <td>0.566895</td>\n",
       "      <td>0.654297</td>\n",
       "    </tr>\n",
       "  </tbody>\n",
       "</table>\n",
       "</div>"
      ],
      "text/plain": [
       "   content_total_questions  content_accuracy  content_accuracy_std  \\\n",
       "0                     6903          0.907715              0.289440   \n",
       "1                     7398          0.890625              0.312104   \n",
       "2                    44905          0.554199              0.497050   \n",
       "3                    22973          0.779297              0.414636   \n",
       "4                    31736          0.613281              0.487021   \n",
       "\n",
       "   content_prior_question_elapsed_time_avg  \\\n",
       "0                             21876.357422   \n",
       "1                             22091.626953   \n",
       "2                             23546.447266   \n",
       "3                             23318.945312   \n",
       "4                             23126.990234   \n",
       "\n",
       "   content_prior_question_had_explanation_avg  part  bundle_id  \\\n",
       "0                                    0.947754     1          0   \n",
       "1                                    0.980469     1          1   \n",
       "2                                    0.888184     1          2   \n",
       "3                                    0.958496     1          3   \n",
       "4                                    0.530273     1          4   \n",
       "\n",
       "   content_explanation_false_mean  content_explanation_true_mean  \n",
       "0                        0.830566                       0.912109  \n",
       "1                        0.813965                       0.892090  \n",
       "2                        0.490967                       0.562012  \n",
       "3                        0.686035                       0.783691  \n",
       "4                        0.566895                       0.654297  "
      ]
     },
     "execution_count": 7,
     "metadata": {},
     "output_type": "execute_result"
    }
   ],
   "source": [
    "# content aggregation\n",
    "def get_content_agg(train):\n",
    "    content_agg = train.groupby('content_id').aggregate({'answered_correctly': ['count', np.nanmean, np.nanstd], \\\n",
    "                                                         'prior_question_elapsed_time': np.nanmean, \\\n",
    "                                                         'prior_question_had_explanation': np.nanmean})\n",
    "    content_agg.columns = ['content_total_questions', \\\n",
    "                           'content_accuracy', \\\n",
    "                           'content_accuracy_std', \\\n",
    "                           'content_prior_question_elapsed_time_avg', \\\n",
    "                           'content_prior_question_had_explanation_avg']\n",
    "\n",
    "    content_agg = content_agg.merge(questions[['question_id', 'part', 'bundle_id']], how='left', \\\n",
    "                           left_index=True, right_on='question_id').drop('question_id', axis=1)\n",
    "    \n",
    "    content_explanation_agg = train[[\"content_id\",\"prior_question_had_explanation\",'answered_correctly']].groupby([\"content_id\",\"prior_question_had_explanation\"])['answered_correctly'].agg(['mean'])\n",
    "    content_explanation_agg = content_explanation_agg.unstack()\n",
    "    content_explanation_agg=content_explanation_agg.reset_index()\n",
    "    content_explanation_agg.columns = ['content_id', 'content_explanation_false_mean','content_explanation_true_mean']\n",
    "    \n",
    "    content_agg = content_agg.merge(content_explanation_agg, how='left', \\\n",
    "                                   left_index=True, right_on='content_id'\\\n",
    "                                   ).drop('content_id', axis=1)\n",
    "\n",
    "    column_type = {'content_total_questions':'int64', \\\n",
    "                   'content_accuracy': 'float16',\\\n",
    "                   'content_accuracy_std':'float32', \\\n",
    "                   'content_prior_question_elapsed_time_avg': 'float32', \\\n",
    "                   'content_prior_question_had_explanation_avg': 'float16', \\\n",
    "                   'part': 'int8', \\\n",
    "                   'bundle_id':'int16', \\\n",
    "                   'content_explanation_false_mean': 'float16', \\\n",
    "                   'content_explanation_true_mean': 'float16'}\n",
    "    content_agg = content_agg.astype(column_type)\n",
    "    \n",
    "    content_agg.to_pickle('content_agg.pkl')   \n",
    "    return content_agg\n",
    "\n",
    "if RUN_CONTENT_AGG:\n",
    "    content_agg = get_content_agg(train)\n",
    "\n",
    "else:\n",
    "    # saved content_agg is calculated on all train\n",
    "    content_agg = pd.read_pickle('/kaggle/input/riid-budingtanke/content_agg_3.pkl')\n",
    "\n",
    "content_agg = content_agg[['content_total_questions', \\\n",
    "                           'content_accuracy', \\\n",
    "                           'content_accuracy_std', \\\n",
    "                           'content_prior_question_elapsed_time_avg', \\\n",
    "                           'content_prior_question_had_explanation_avg', \\\n",
    "                           'part', \\\n",
    "                           'bundle_id', \\\n",
    "                           'content_explanation_false_mean', \\\n",
    "                           'content_explanation_true_mean']]\n",
    "\n",
    "content_agg.head()"
   ]
  },
  {
   "cell_type": "markdown",
   "metadata": {
    "papermill": {
     "duration": 0.030878,
     "end_time": "2021-01-15T04:33:59.770742",
     "exception": false,
     "start_time": "2021-01-15T04:33:59.739864",
     "status": "completed"
    },
    "tags": []
   },
   "source": [
    "### Generate user features"
   ]
  },
  {
   "cell_type": "code",
   "execution_count": 8,
   "metadata": {
    "execution": {
     "iopub.execute_input": "2021-01-15T04:33:59.841669Z",
     "iopub.status.busy": "2021-01-15T04:33:59.840732Z",
     "iopub.status.idle": "2021-01-15T04:33:59.844791Z",
     "shell.execute_reply": "2021-01-15T04:33:59.843795Z"
    },
    "papermill": {
     "duration": 0.04259,
     "end_time": "2021-01-15T04:33:59.844943",
     "exception": false,
     "start_time": "2021-01-15T04:33:59.802353",
     "status": "completed"
    },
    "tags": []
   },
   "outputs": [],
   "source": [
    "# create defaultdict to keep track of user statistics\n",
    "dict_user_total_questions = defaultdict(int)\n",
    "dict_user_correct_questions = defaultdict(int)\n",
    "dict_user_prior_question_elapsed_time_sum = defaultdict(int)\n",
    "dict_user_prior_question_had_explanation_sum = defaultdict(int)\n",
    "dict_user_content_total_questions = defaultdict(lambda: defaultdict(int))\n",
    "dict_user_previous_ts = defaultdict(list)\n",
    "dict_user_continuous_correct = defaultdict(int)"
   ]
  },
  {
   "cell_type": "code",
   "execution_count": 9,
   "metadata": {
    "execution": {
     "iopub.execute_input": "2021-01-15T04:33:59.936268Z",
     "iopub.status.busy": "2021-01-15T04:33:59.930955Z",
     "iopub.status.idle": "2021-01-15T04:33:59.948033Z",
     "shell.execute_reply": "2021-01-15T04:33:59.948846Z"
    },
    "papermill": {
     "duration": 0.070023,
     "end_time": "2021-01-15T04:33:59.949040",
     "exception": false,
     "start_time": "2021-01-15T04:33:59.879017",
     "status": "completed"
    },
    "tags": []
   },
   "outputs": [],
   "source": [
    "# function to add features\n",
    "def get_features(df, \\\n",
    "                 dict_user_total_questions, \\\n",
    "                 dict_user_correct_questions, \\\n",
    "                 dict_user_prior_question_elapsed_time_sum, \\\n",
    "                 dict_user_prior_question_had_explanation_sum, \\\n",
    "                 dict_user_content_total_questions, \\\n",
    "                 dict_user_previous_ts, \\\n",
    "                 dict_user_continuous_correct):\n",
    "    \n",
    "    user_cum_total_questions = np.zeros(df.shape[0], dtype=np.int32)\n",
    "    user_cum_accuracy = np.zeros(df.shape[0], dtype=np.float32)\n",
    "    user_cum_prior_question_elapsed_time_avg = np.zeros(df.shape[0], dtype=np.float32)\n",
    "    user_cum_prior_question_had_explanation_avg = np.zeros(df.shape[0], dtype=np.float32)\n",
    "    user_cum_content_total_questions = np.zeros(df.shape[0], dtype=np.int32)  \n",
    "    user_ts_lag_1 = np.zeros(df.shape[0], dtype = np.float32)\n",
    "    user_ts_lag_2 = np.zeros(df.shape[0], dtype = np.float32)\n",
    "    user_ts_lag_3 = np.zeros(df.shape[0], dtype = np.float32)\n",
    "    user_continuous_correct = np.zeros(df.shape[0], dtype = np.float16)\n",
    "    \n",
    "    for i, row in enumerate(tqdm(df[['user_id', \\\n",
    "                                     'answered_correctly', \\\n",
    "                                     'prior_question_elapsed_time', \\\n",
    "                                     'prior_question_had_explanation', \\\n",
    "                                     'content_id', \\\n",
    "                                     'timestamp']].values)):\n",
    "        # get features from dicts\n",
    "        user_cum_total_questions[i] = dict_user_total_questions[row[0]]\n",
    "        if dict_user_total_questions[row[0]] != 0:      \n",
    "            user_cum_accuracy[i] = dict_user_correct_questions[row[0]]/dict_user_total_questions[row[0]]\n",
    "            user_cum_prior_question_elapsed_time_avg[i] = dict_user_prior_question_elapsed_time_sum[row[0]]/dict_user_total_questions[row[0]]\n",
    "            user_cum_prior_question_had_explanation_avg[i] = dict_user_prior_question_had_explanation_sum[row[0]]/dict_user_total_questions[row[0]]\n",
    "        else:\n",
    "            user_cum_accuracy[i] = np.nan \n",
    "            user_cum_prior_question_elapsed_time_avg[i] = np.nan \n",
    "            user_cum_prior_question_had_explanation_avg[i] = np.nan\n",
    "        \n",
    "        user_cum_content_total_questions[i] = dict_user_content_total_questions[row[0]][row[4]]\n",
    "        \n",
    "        if len(dict_user_previous_ts[row[0]]) == 0:\n",
    "            user_ts_lag_1[i] = np.nan\n",
    "            user_ts_lag_2[i] = np.nan\n",
    "            user_ts_lag_3[i] = np.nan\n",
    "        elif len(dict_user_previous_ts[row[0]]) == 1:\n",
    "            user_ts_lag_1[i] = row[5] - dict_user_previous_ts[row[0]][0]\n",
    "            user_ts_lag_2[i] = np.nan\n",
    "            user_ts_lag_3[i] = np.nan\n",
    "        elif len(dict_user_previous_ts[row[0]]) == 2:\n",
    "            user_ts_lag_1[i] = row[5] - dict_user_previous_ts[row[0]][1]\n",
    "            user_ts_lag_2[i] = row[5] - dict_user_previous_ts[row[0]][0]\n",
    "            user_ts_lag_3[i] = np.nan\n",
    "        elif len(dict_user_previous_ts[row[0]]) == 3:\n",
    "            user_ts_lag_1[i] = row[5] - dict_user_previous_ts[row[0]][2]\n",
    "            user_ts_lag_2[i] = row[5] - dict_user_previous_ts[row[0]][1]\n",
    "            user_ts_lag_3[i] = row[5] - dict_user_previous_ts[row[0]][0]\n",
    "            \n",
    "        if row[5] == 0:\n",
    "            user_continuous_correct[i] = np.nan\n",
    "        else:\n",
    "            user_continuous_correct[i] = dict_user_continuous_correct[row[0]]\n",
    "        \n",
    "\n",
    "        # update dicts\n",
    "        dict_user_total_questions[row[0]] += 1\n",
    "        dict_user_correct_questions[row[0]] += row[1]\n",
    "        dict_user_prior_question_elapsed_time_sum[row[0]] += row[2]\n",
    "        dict_user_prior_question_had_explanation_sum[row[0]] += row[3]\n",
    "        dict_user_content_total_questions[row[0]][row[4]] += 1\n",
    "        \n",
    "        if len(dict_user_previous_ts[row[0]]) == 3:\n",
    "            dict_user_previous_ts[row[0]].pop(0)\n",
    "            dict_user_previous_ts[row[0]].append(row[5])\n",
    "        else:\n",
    "            dict_user_previous_ts[row[0]].append(row[5])\n",
    "            \n",
    "        if row[1] == 0:\n",
    "            dict_user_continuous_correct[row[0]] = 0\n",
    "        else:\n",
    "            dict_user_continuous_correct[row[0]] += 1\n",
    "            \n",
    "    \n",
    "    df.drop(['timestamp'], axis=1, inplace=True)\n",
    "    df.reset_index(drop=True)\n",
    "    \n",
    "    # add new features to df\n",
    "    df['user_cum_total_questions'] = user_cum_total_questions\n",
    "    df['user_cum_accuracy'] = user_cum_accuracy\n",
    "    df['user_cum_prior_question_elapsed_time_avg'] = user_cum_prior_question_elapsed_time_avg\n",
    "    df['user_cum_prior_question_had_explanation_avg'] = user_cum_prior_question_had_explanation_avg\n",
    "    df['user_cum_content_total_questions'] = user_cum_content_total_questions\n",
    "    \n",
    "    df['user_ts_lag_1'] = user_ts_lag_1\n",
    "    df['user_ts_lag_2'] = user_ts_lag_2\n",
    "    df['user_ts_lag_3'] = user_ts_lag_3\n",
    "    \n",
    "    df['user_continuous_correct'] = user_continuous_correct\n",
    "\n",
    "    del user_cum_total_questions\n",
    "    del user_cum_accuracy\n",
    "    del user_cum_prior_question_elapsed_time_avg\n",
    "    del user_cum_prior_question_had_explanation_avg\n",
    "    del user_cum_content_total_questions\n",
    "    del user_ts_lag_1\n",
    "    del user_ts_lag_2\n",
    "    del user_ts_lag_3\n",
    "    del user_continuous_correct\n",
    "    \n",
    "    gc.collect()\n",
    "\n",
    "    return df"
   ]
  },
  {
   "cell_type": "code",
   "execution_count": 10,
   "metadata": {
    "execution": {
     "iopub.execute_input": "2021-01-15T04:34:00.769881Z",
     "iopub.status.busy": "2021-01-15T04:34:00.021891Z",
     "iopub.status.idle": "2021-01-15T04:44:20.620933Z",
     "shell.execute_reply": "2021-01-15T04:44:20.620077Z"
    },
    "papermill": {
     "duration": 620.639113,
     "end_time": "2021-01-15T04:44:20.621090",
     "exception": false,
     "start_time": "2021-01-15T04:33:59.981977",
     "status": "completed"
    },
    "tags": []
   },
   "outputs": [
    {
     "name": "stderr",
     "output_type": "stream",
     "text": [
      "100%|██████████| 37203074/37203074 [09:49<00:00, 63133.91it/s]\n"
     ]
    }
   ],
   "source": [
    "# add user features to train data\n",
    "train = get_features(train, \\\n",
    "                     dict_user_total_questions, \\\n",
    "                     dict_user_correct_questions, \\\n",
    "                     dict_user_prior_question_elapsed_time_sum, \\\n",
    "                     dict_user_prior_question_had_explanation_sum, \\\n",
    "                     dict_user_content_total_questions, \\\n",
    "                     dict_user_previous_ts, \\\n",
    "                     dict_user_continuous_correct)\n",
    "\n",
    "train.head()\n",
    "time.sleep(15)"
   ]
  },
  {
   "cell_type": "code",
   "execution_count": 11,
   "metadata": {
    "execution": {
     "iopub.execute_input": "2021-01-15T04:44:26.573364Z",
     "iopub.status.busy": "2021-01-15T04:44:26.572099Z",
     "iopub.status.idle": "2021-01-15T04:45:00.072460Z",
     "shell.execute_reply": "2021-01-15T04:45:00.071649Z"
    },
    "papermill": {
     "duration": 36.454846,
     "end_time": "2021-01-15T04:45:00.072663",
     "exception": false,
     "start_time": "2021-01-15T04:44:23.617817",
     "status": "completed"
    },
    "tags": []
   },
   "outputs": [],
   "source": [
    "# to avoid memory issue, sample 14 million to train model\n",
    "train = train.sample(n=14000000, random_state = 45).reset_index(drop=True)\n",
    "time.sleep(15)"
   ]
  },
  {
   "cell_type": "code",
   "execution_count": 12,
   "metadata": {
    "execution": {
     "iopub.execute_input": "2021-01-15T04:45:05.841034Z",
     "iopub.status.busy": "2021-01-15T04:45:05.840336Z",
     "iopub.status.idle": "2021-01-15T04:45:48.557344Z",
     "shell.execute_reply": "2021-01-15T04:45:48.556273Z"
    },
    "papermill": {
     "duration": 45.607665,
     "end_time": "2021-01-15T04:45:48.557516",
     "exception": false,
     "start_time": "2021-01-15T04:45:02.949851",
     "status": "completed"
    },
    "tags": []
   },
   "outputs": [
    {
     "name": "stderr",
     "output_type": "stream",
     "text": [
      "100%|██████████| 2451798/2451798 [00:38<00:00, 63043.61it/s]\n"
     ]
    }
   ],
   "source": [
    "# add user features to validation data\n",
    "val = get_features(val, \\\n",
    "                   dict_user_total_questions, \\\n",
    "                   dict_user_correct_questions, \\\n",
    "                   dict_user_prior_question_elapsed_time_sum, \\\n",
    "                   dict_user_prior_question_had_explanation_sum, \\\n",
    "                   dict_user_content_total_questions, \\\n",
    "                   dict_user_previous_ts, \\\n",
    "                   dict_user_continuous_correct)\n",
    "\n",
    "# val.head()"
   ]
  },
  {
   "cell_type": "code",
   "execution_count": 13,
   "metadata": {
    "execution": {
     "iopub.execute_input": "2021-01-15T04:45:54.303093Z",
     "iopub.status.busy": "2021-01-15T04:45:54.302374Z",
     "iopub.status.idle": "2021-01-15T04:46:04.874105Z",
     "shell.execute_reply": "2021-01-15T04:46:04.871357Z"
    },
    "papermill": {
     "duration": 13.232263,
     "end_time": "2021-01-15T04:46:04.874745",
     "exception": false,
     "start_time": "2021-01-15T04:45:51.642482",
     "status": "completed"
    },
    "tags": []
   },
   "outputs": [
    {
     "data": {
      "text/plain": [
       "20"
      ]
     },
     "execution_count": 13,
     "metadata": {},
     "output_type": "execute_result"
    }
   ],
   "source": [
    "del dict_user_total_questions\n",
    "del dict_user_correct_questions\n",
    "del dict_user_prior_question_elapsed_time_sum \n",
    "del dict_user_prior_question_had_explanation_sum\n",
    "del dict_user_content_total_questions\n",
    "del dict_user_previous_ts\n",
    "del dict_user_continuous_correct\n",
    "\n",
    "gc.collect()"
   ]
  },
  {
   "cell_type": "code",
   "execution_count": 14,
   "metadata": {
    "execution": {
     "iopub.execute_input": "2021-01-15T04:46:12.564311Z",
     "iopub.status.busy": "2021-01-15T04:46:12.563365Z",
     "iopub.status.idle": "2021-01-15T04:46:16.817296Z",
     "shell.execute_reply": "2021-01-15T04:46:16.816667Z"
    },
    "papermill": {
     "duration": 6.528977,
     "end_time": "2021-01-15T04:46:16.817417",
     "exception": false,
     "start_time": "2021-01-15T04:46:10.288440",
     "status": "completed"
    },
    "tags": []
   },
   "outputs": [
    {
     "data": {
      "text/plain": [
       "20"
      ]
     },
     "execution_count": 14,
     "metadata": {},
     "output_type": "execute_result"
    }
   ],
   "source": [
    "# join content features\n",
    "train = train.merge(content_agg, right_index=True, left_on='content_id', how='left')\n",
    "val = val.merge(content_agg, right_index=True, left_on='content_id', how='left')\n",
    "\n",
    "del content_agg\n",
    "gc.collect()"
   ]
  },
  {
   "cell_type": "code",
   "execution_count": 15,
   "metadata": {
    "execution": {
     "iopub.execute_input": "2021-01-15T04:46:21.165563Z",
     "iopub.status.busy": "2021-01-15T04:46:21.161213Z",
     "iopub.status.idle": "2021-01-15T04:46:21.189983Z",
     "shell.execute_reply": "2021-01-15T04:46:21.190502Z"
    },
    "papermill": {
     "duration": 2.265741,
     "end_time": "2021-01-15T04:46:21.190684",
     "exception": false,
     "start_time": "2021-01-15T04:46:18.924943",
     "status": "completed"
    },
    "tags": []
   },
   "outputs": [
    {
     "data": {
      "text/html": [
       "<div>\n",
       "<style scoped>\n",
       "    .dataframe tbody tr th:only-of-type {\n",
       "        vertical-align: middle;\n",
       "    }\n",
       "\n",
       "    .dataframe tbody tr th {\n",
       "        vertical-align: top;\n",
       "    }\n",
       "\n",
       "    .dataframe thead th {\n",
       "        text-align: right;\n",
       "    }\n",
       "</style>\n",
       "<table border=\"1\" class=\"dataframe\">\n",
       "  <thead>\n",
       "    <tr style=\"text-align: right;\">\n",
       "      <th></th>\n",
       "      <th>user_id</th>\n",
       "      <th>answered_correctly</th>\n",
       "      <th>content_id</th>\n",
       "      <th>prior_question_had_explanation</th>\n",
       "      <th>prior_question_elapsed_time</th>\n",
       "      <th>user_cum_total_questions</th>\n",
       "      <th>user_cum_accuracy</th>\n",
       "      <th>user_cum_prior_question_elapsed_time_avg</th>\n",
       "      <th>user_cum_prior_question_had_explanation_avg</th>\n",
       "      <th>user_cum_content_total_questions</th>\n",
       "      <th>...</th>\n",
       "      <th>user_continuous_correct</th>\n",
       "      <th>content_total_questions</th>\n",
       "      <th>content_accuracy</th>\n",
       "      <th>content_accuracy_std</th>\n",
       "      <th>content_prior_question_elapsed_time_avg</th>\n",
       "      <th>content_prior_question_had_explanation_avg</th>\n",
       "      <th>part</th>\n",
       "      <th>bundle_id</th>\n",
       "      <th>content_explanation_false_mean</th>\n",
       "      <th>content_explanation_true_mean</th>\n",
       "    </tr>\n",
       "  </thead>\n",
       "  <tbody>\n",
       "    <tr>\n",
       "      <th>0</th>\n",
       "      <td>772075662</td>\n",
       "      <td>0</td>\n",
       "      <td>8616</td>\n",
       "      <td>True</td>\n",
       "      <td>31000.0</td>\n",
       "      <td>517</td>\n",
       "      <td>0.471954</td>\n",
       "      <td>38214.855469</td>\n",
       "      <td>0.969052</td>\n",
       "      <td>0</td>\n",
       "      <td>...</td>\n",
       "      <td>1.0</td>\n",
       "      <td>7302</td>\n",
       "      <td>0.690918</td>\n",
       "      <td>0.462095</td>\n",
       "      <td>24878.833984</td>\n",
       "      <td>0.993652</td>\n",
       "      <td>5</td>\n",
       "      <td>8616</td>\n",
       "      <td>0.600098</td>\n",
       "      <td>0.691406</td>\n",
       "    </tr>\n",
       "    <tr>\n",
       "      <th>1</th>\n",
       "      <td>540159398</td>\n",
       "      <td>1</td>\n",
       "      <td>2089</td>\n",
       "      <td>True</td>\n",
       "      <td>2333.0</td>\n",
       "      <td>2304</td>\n",
       "      <td>0.717882</td>\n",
       "      <td>16089.218750</td>\n",
       "      <td>0.996528</td>\n",
       "      <td>0</td>\n",
       "      <td>...</td>\n",
       "      <td>1.0</td>\n",
       "      <td>3827</td>\n",
       "      <td>0.829102</td>\n",
       "      <td>0.376463</td>\n",
       "      <td>23174.623047</td>\n",
       "      <td>0.968750</td>\n",
       "      <td>3</td>\n",
       "      <td>2087</td>\n",
       "      <td>0.856934</td>\n",
       "      <td>0.828125</td>\n",
       "    </tr>\n",
       "    <tr>\n",
       "      <th>2</th>\n",
       "      <td>1689132890</td>\n",
       "      <td>1</td>\n",
       "      <td>11314</td>\n",
       "      <td>True</td>\n",
       "      <td>25000.0</td>\n",
       "      <td>89</td>\n",
       "      <td>0.719101</td>\n",
       "      <td>20195.773438</td>\n",
       "      <td>0.898876</td>\n",
       "      <td>0</td>\n",
       "      <td>...</td>\n",
       "      <td>5.0</td>\n",
       "      <td>2799</td>\n",
       "      <td>0.851562</td>\n",
       "      <td>0.355428</td>\n",
       "      <td>25395.830078</td>\n",
       "      <td>0.992676</td>\n",
       "      <td>5</td>\n",
       "      <td>11314</td>\n",
       "      <td>0.799805</td>\n",
       "      <td>0.852051</td>\n",
       "    </tr>\n",
       "    <tr>\n",
       "      <th>3</th>\n",
       "      <td>1843409667</td>\n",
       "      <td>1</td>\n",
       "      <td>2387</td>\n",
       "      <td>True</td>\n",
       "      <td>666.0</td>\n",
       "      <td>1998</td>\n",
       "      <td>0.777778</td>\n",
       "      <td>24376.310547</td>\n",
       "      <td>0.969469</td>\n",
       "      <td>1</td>\n",
       "      <td>...</td>\n",
       "      <td>5.0</td>\n",
       "      <td>13091</td>\n",
       "      <td>0.790527</td>\n",
       "      <td>0.406882</td>\n",
       "      <td>24562.880859</td>\n",
       "      <td>0.968262</td>\n",
       "      <td>3</td>\n",
       "      <td>2386</td>\n",
       "      <td>0.781738</td>\n",
       "      <td>0.791016</td>\n",
       "    </tr>\n",
       "    <tr>\n",
       "      <th>4</th>\n",
       "      <td>1276725128</td>\n",
       "      <td>1</td>\n",
       "      <td>6004</td>\n",
       "      <td>True</td>\n",
       "      <td>10000.0</td>\n",
       "      <td>758</td>\n",
       "      <td>0.641161</td>\n",
       "      <td>18200.142578</td>\n",
       "      <td>0.957784</td>\n",
       "      <td>0</td>\n",
       "      <td>...</td>\n",
       "      <td>0.0</td>\n",
       "      <td>23022</td>\n",
       "      <td>0.645020</td>\n",
       "      <td>0.478566</td>\n",
       "      <td>24879.576172</td>\n",
       "      <td>0.971680</td>\n",
       "      <td>5</td>\n",
       "      <td>6004</td>\n",
       "      <td>0.534668</td>\n",
       "      <td>0.647949</td>\n",
       "    </tr>\n",
       "  </tbody>\n",
       "</table>\n",
       "<p>5 rows × 23 columns</p>\n",
       "</div>"
      ],
      "text/plain": [
       "      user_id  answered_correctly  content_id  prior_question_had_explanation  \\\n",
       "0   772075662                   0        8616                            True   \n",
       "1   540159398                   1        2089                            True   \n",
       "2  1689132890                   1       11314                            True   \n",
       "3  1843409667                   1        2387                            True   \n",
       "4  1276725128                   1        6004                            True   \n",
       "\n",
       "   prior_question_elapsed_time  user_cum_total_questions  user_cum_accuracy  \\\n",
       "0                      31000.0                       517           0.471954   \n",
       "1                       2333.0                      2304           0.717882   \n",
       "2                      25000.0                        89           0.719101   \n",
       "3                        666.0                      1998           0.777778   \n",
       "4                      10000.0                       758           0.641161   \n",
       "\n",
       "   user_cum_prior_question_elapsed_time_avg  \\\n",
       "0                              38214.855469   \n",
       "1                              16089.218750   \n",
       "2                              20195.773438   \n",
       "3                              24376.310547   \n",
       "4                              18200.142578   \n",
       "\n",
       "   user_cum_prior_question_had_explanation_avg  \\\n",
       "0                                     0.969052   \n",
       "1                                     0.996528   \n",
       "2                                     0.898876   \n",
       "3                                     0.969469   \n",
       "4                                     0.957784   \n",
       "\n",
       "   user_cum_content_total_questions  ...  user_continuous_correct  \\\n",
       "0                                 0  ...                      1.0   \n",
       "1                                 0  ...                      1.0   \n",
       "2                                 0  ...                      5.0   \n",
       "3                                 1  ...                      5.0   \n",
       "4                                 0  ...                      0.0   \n",
       "\n",
       "   content_total_questions  content_accuracy  content_accuracy_std  \\\n",
       "0                     7302          0.690918              0.462095   \n",
       "1                     3827          0.829102              0.376463   \n",
       "2                     2799          0.851562              0.355428   \n",
       "3                    13091          0.790527              0.406882   \n",
       "4                    23022          0.645020              0.478566   \n",
       "\n",
       "   content_prior_question_elapsed_time_avg  \\\n",
       "0                             24878.833984   \n",
       "1                             23174.623047   \n",
       "2                             25395.830078   \n",
       "3                             24562.880859   \n",
       "4                             24879.576172   \n",
       "\n",
       "   content_prior_question_had_explanation_avg  part  bundle_id  \\\n",
       "0                                    0.993652     5       8616   \n",
       "1                                    0.968750     3       2087   \n",
       "2                                    0.992676     5      11314   \n",
       "3                                    0.968262     3       2386   \n",
       "4                                    0.971680     5       6004   \n",
       "\n",
       "   content_explanation_false_mean  content_explanation_true_mean  \n",
       "0                        0.600098                       0.691406  \n",
       "1                        0.856934                       0.828125  \n",
       "2                        0.799805                       0.852051  \n",
       "3                        0.781738                       0.791016  \n",
       "4                        0.534668                       0.647949  \n",
       "\n",
       "[5 rows x 23 columns]"
      ]
     },
     "execution_count": 15,
     "metadata": {},
     "output_type": "execute_result"
    }
   ],
   "source": [
    "train.head()"
   ]
  },
  {
   "cell_type": "markdown",
   "metadata": {
    "papermill": {
     "duration": 3.216719,
     "end_time": "2021-01-15T04:46:27.474746",
     "exception": false,
     "start_time": "2021-01-15T04:46:24.258027",
     "status": "completed"
    },
    "tags": []
   },
   "source": [
    "# Model"
   ]
  },
  {
   "cell_type": "code",
   "execution_count": 16,
   "metadata": {
    "execution": {
     "iopub.execute_input": "2021-01-15T04:46:33.661748Z",
     "iopub.status.busy": "2021-01-15T04:46:33.660805Z",
     "iopub.status.idle": "2021-01-15T04:46:34.610164Z",
     "shell.execute_reply": "2021-01-15T04:46:34.609351Z"
    },
    "papermill": {
     "duration": 4.04068,
     "end_time": "2021-01-15T04:46:34.610308",
     "exception": false,
     "start_time": "2021-01-15T04:46:30.569628",
     "status": "completed"
    },
    "tags": []
   },
   "outputs": [],
   "source": [
    "target = 'answered_correctly'\n",
    "features = [# raw features\n",
    "            'prior_question_had_explanation', \\\n",
    "            'prior_question_elapsed_time', \\\n",
    "            # user statistics with updates\n",
    "            'user_cum_total_questions', \\\n",
    "            'user_cum_accuracy', \\\n",
    "            'user_cum_prior_question_elapsed_time_avg', \\\n",
    "            'user_cum_prior_question_had_explanation_avg', \\\n",
    "            'user_cum_content_total_questions', \\\n",
    "            # question statistics without updates\n",
    "            'content_total_questions', \\\n",
    "            'content_accuracy', \\\n",
    "            'content_accuracy_std', \\\n",
    "            'content_prior_question_elapsed_time_avg', \\\n",
    "            'content_prior_question_had_explanation_avg', \\\n",
    "            'content_explanation_false_mean', \\\n",
    "            'content_explanation_true_mean', \\\n",
    "            # user statistics with updates\n",
    "            'user_ts_lag_1', \\\n",
    "            'user_ts_lag_2', \\\n",
    "            'user_ts_lag_3', \\\n",
    "            'user_continuous_correct', \\\n",
    "            'part' \n",
    "           ]\n",
    "train = train[features + [target]]\n",
    "val = val[features + [target]]"
   ]
  },
  {
   "cell_type": "code",
   "execution_count": 17,
   "metadata": {
    "execution": {
     "iopub.execute_input": "2021-01-15T04:46:40.927248Z",
     "iopub.status.busy": "2021-01-15T04:46:40.926151Z",
     "iopub.status.idle": "2021-01-15T04:46:41.078452Z",
     "shell.execute_reply": "2021-01-15T04:46:41.077700Z"
    },
    "papermill": {
     "duration": 3.354823,
     "end_time": "2021-01-15T04:46:41.078637",
     "exception": false,
     "start_time": "2021-01-15T04:46:37.723814",
     "status": "completed"
    },
    "tags": []
   },
   "outputs": [],
   "source": [
    "train['content_total_questions'] = np.array(train['content_total_questions'], dtype=np.int32)\n",
    "train['part'] = np.array(train['part'], dtype=np.int8)\n",
    "train['content_accuracy'] = np.array(train['content_accuracy'], dtype=np.float32)\n",
    "\n",
    "val['content_total_questions'] = np.array(val['content_total_questions'], dtype=np.int32)\n",
    "val['part'] = np.array(val['part'], dtype=np.int8)\n",
    "val['content_accuracy'] = np.array(val['content_accuracy'], dtype=np.float32)"
   ]
  },
  {
   "cell_type": "code",
   "execution_count": 18,
   "metadata": {
    "execution": {
     "iopub.execute_input": "2021-01-15T04:46:47.239800Z",
     "iopub.status.busy": "2021-01-15T04:46:47.238903Z",
     "iopub.status.idle": "2021-01-15T04:47:08.078732Z",
     "shell.execute_reply": "2021-01-15T04:47:08.077714Z"
    },
    "papermill": {
     "duration": 23.921174,
     "end_time": "2021-01-15T04:47:08.078885",
     "exception": false,
     "start_time": "2021-01-15T04:46:44.157711",
     "status": "completed"
    },
    "tags": []
   },
   "outputs": [],
   "source": [
    "lgb_train = lgb.Dataset(train[features], train[target])\n",
    "lgb_val = lgb.Dataset(val[features], val[target])\n",
    "\n",
    "del train, val\n",
    "gc.collect()\n",
    "time.sleep(20)"
   ]
  },
  {
   "cell_type": "code",
   "execution_count": 19,
   "metadata": {
    "execution": {
     "iopub.execute_input": "2021-01-15T04:47:13.212297Z",
     "iopub.status.busy": "2021-01-15T04:47:13.211581Z",
     "iopub.status.idle": "2021-01-15T05:34:11.956662Z",
     "shell.execute_reply": "2021-01-15T05:34:11.957344Z"
    },
    "papermill": {
     "duration": 2820.867799,
     "end_time": "2021-01-15T05:34:11.957609",
     "exception": false,
     "start_time": "2021-01-15T04:47:11.089810",
     "status": "completed"
    },
    "tags": []
   },
   "outputs": [
    {
     "name": "stdout",
     "output_type": "stream",
     "text": [
      "Training until validation scores don't improve for 8 rounds\n",
      "[20]\ttraining's auc: 0.766702\tvalid_1's auc: 0.769664\n",
      "[40]\ttraining's auc: 0.771929\tvalid_1's auc: 0.774375\n",
      "[60]\ttraining's auc: 0.774771\tvalid_1's auc: 0.776769\n",
      "[80]\ttraining's auc: 0.776406\tvalid_1's auc: 0.778062\n",
      "[100]\ttraining's auc: 0.77757\tvalid_1's auc: 0.778952\n",
      "[120]\ttraining's auc: 0.778275\tvalid_1's auc: 0.779391\n",
      "[140]\ttraining's auc: 0.778808\tvalid_1's auc: 0.779674\n",
      "[160]\ttraining's auc: 0.779147\tvalid_1's auc: 0.779772\n",
      "[180]\ttraining's auc: 0.779584\tvalid_1's auc: 0.779934\n",
      "[200]\ttraining's auc: 0.779988\tvalid_1's auc: 0.780094\n",
      "[220]\ttraining's auc: 0.780407\tvalid_1's auc: 0.780256\n",
      "[240]\ttraining's auc: 0.780715\tvalid_1's auc: 0.780358\n",
      "[260]\ttraining's auc: 0.780985\tvalid_1's auc: 0.78045\n",
      "[280]\ttraining's auc: 0.781408\tvalid_1's auc: 0.780623\n",
      "[300]\ttraining's auc: 0.781742\tvalid_1's auc: 0.780727\n",
      "[320]\ttraining's auc: 0.782051\tvalid_1's auc: 0.780805\n",
      "[340]\ttraining's auc: 0.78235\tvalid_1's auc: 0.780881\n",
      "[360]\ttraining's auc: 0.782639\tvalid_1's auc: 0.780954\n",
      "[380]\ttraining's auc: 0.7829\tvalid_1's auc: 0.780988\n",
      "Early stopping, best iteration is:\n",
      "[377]\ttraining's auc: 0.782873\tvalid_1's auc: 0.78099\n"
     ]
    }
   ],
   "source": [
    "params = {'objective': 'binary',\n",
    "          'metric': 'auc',\n",
    "          'seed': 2020,\n",
    "          'learning_rate': 0.1, #default\n",
    "          'boosting_type': \"gbdt\", #default,\n",
    "          'bagging_fraction': 0.8,\n",
    "          \"bagging_seed\": 11,\n",
    "          'max_bin':320, # default 255\n",
    "          'num_leaves': 200 # default 31\n",
    "         }\n",
    "\n",
    "model = lgb.train(\n",
    "    params, lgb_train,\n",
    "    valid_sets=[lgb_train, lgb_val],\n",
    "    verbose_eval=20,\n",
    "    num_boost_round=10000,\n",
    "    early_stopping_rounds=8\n",
    "#     categorical_feature=categorical_columns\n",
    ")\n",
    "\n",
    "# [377]\ttraining's auc: 0.782873\tvalid_1's auc: 0.78099"
   ]
  },
  {
   "cell_type": "code",
   "execution_count": 20,
   "metadata": {
    "execution": {
     "iopub.execute_input": "2021-01-15T05:34:16.163511Z",
     "iopub.status.busy": "2021-01-15T05:34:16.162598Z",
     "iopub.status.idle": "2021-01-15T05:34:16.862033Z",
     "shell.execute_reply": "2021-01-15T05:34:16.862809Z"
    },
    "papermill": {
     "duration": 2.796288,
     "end_time": "2021-01-15T05:34:16.862975",
     "exception": false,
     "start_time": "2021-01-15T05:34:14.066687",
     "status": "completed"
    },
    "tags": []
   },
   "outputs": [
    {
     "data": {
      "image/png": "[encoded data removed]",
      "text/plain": [
       "<Figure size 432x288 with 1 Axes>"
      ]
     },
     "metadata": {
      "needs_background": "light"
     },
     "output_type": "display_data"
    }
   ],
   "source": [
    "model.save_model('model.txt')\n",
    "\n",
    "lgb.plot_importance(model) \n",
    "plt.show()"
   ]
  },
  {
   "cell_type": "code",
   "execution_count": 21,
   "metadata": {
    "execution": {
     "iopub.execute_input": "2021-01-15T05:34:21.227035Z",
     "iopub.status.busy": "2021-01-15T05:34:21.226134Z",
     "iopub.status.idle": "2021-01-15T05:34:21.231883Z",
     "shell.execute_reply": "2021-01-15T05:34:21.232575Z"
    },
    "papermill": {
     "duration": 2.21322,
     "end_time": "2021-01-15T05:34:21.232810",
     "exception": false,
     "start_time": "2021-01-15T05:34:19.019590",
     "status": "completed"
    },
    "tags": []
   },
   "outputs": [],
   "source": [
    "#model = lgb.Booster(model_file='/kaggle/input/riid-budingtanke/model.txt')"
   ]
  }
 ],
 "metadata": {
  "kernelspec": {
   "display_name": "Python 3",
   "language": "python",
   "name": "python3"
  },
  "language_info": {
   "codemirror_mode": {
    "name": "ipython",
    "version": 3
   },
   "file_extension": ".py",
   "mimetype": "text/x-python",
   "name": "python",
   "nbconvert_exporter": "python",
   "pygments_lexer": "ipython3",
   "version": "3.7.6"
  },
  "papermill": {
   "duration": 3730.099487,
   "end_time": "2021-01-15T05:34:23.445955",
   "environment_variables": {},
   "exception": null,
   "input_path": "__notebook__.ipynb",
   "output_path": "__notebook__.ipynb",
   "parameters": {},
   "start_time": "2021-01-15T04:32:13.346468",
   "version": "2.1.0"
  }
 },
 "nbformat": 4,
 "nbformat_minor": 4
}
